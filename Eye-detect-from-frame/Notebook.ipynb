{
 "cells": [
  {
   "cell_type": "markdown",
   "metadata": {},
   "source": [
    "# Fake Video Detection using eye blinking"
   ]
  },
  {
   "cell_type": "markdown",
   "metadata": {},
   "source": [
    "## Importing libraries"
   ]
  },
  {
   "cell_type": "code",
   "execution_count": 3,
   "metadata": {},
   "outputs": [],
   "source": [
    "import numpy as np\n",
    "import pandas as pd\n",
    "import cv2\n",
    "import dlib\n",
    "from scipy.spatial import distance as dist\n",
    "import os\n",
    "from sklearn import metrics\n",
    "from sklearn.model_selection import train_test_split\n",
    "from sklearn.preprocessing import StandardScaler\n",
    "from sklearn.linear_model import LogisticRegression\n",
    "from sklearn.tree import DecisionTreeClassifier \n",
    "from sklearn.neighbors import KNeighborsClassifier\n",
    "import seaborn as sns\n",
    "import matplotlib.pyplot as plt\n",
    "notebook_path = os.path.abspath(\"Notebook.ipynb\")"
   ]
  },
  {
   "cell_type": "markdown",
   "metadata": {},
   "source": [
    "## Eye Blink and Eye Aspect Ratio calculations"
   ]
  },
  {
   "cell_type": "markdown",
   "metadata": {},
   "source": [
    "### Function to calculate eye aspect ratio"
   ]
  },
  {
   "cell_type": "code",
   "execution_count": 4,
   "metadata": {},
   "outputs": [],
   "source": [
    "def eye_aspect_ratio(eye):\n",
    "    # compute the euclidean distance between the vertical eye landmarks\n",
    "    A = dist.euclidean(eye[1], eye[5])\n",
    "    B = dist.euclidean(eye[2], eye[4])\n",
    "\n",
    "    # compute the euclidean distance between the horizontal eye landmarks\n",
    "    C = dist.euclidean(eye[0], eye[3])\n",
    "\n",
    "    # compute the EAR\n",
    "    ear = (A + B) / (2 * C)\n",
    "    return ear"
   ]
  },
  {
   "cell_type": "markdown",
   "metadata": {},
   "source": [
    "### Eye aspect ratio"
   ]
  },
  {
   "cell_type": "code",
   "execution_count": 5,
   "metadata": {},
   "outputs": [],
   "source": [
    "EYE_AR_THRESH = 0.22\n",
    "EYE_AR_CONSEC_FRAMES = 3\n",
    "EAR_AVG = 0"
   ]
  },
  {
   "cell_type": "markdown",
   "metadata": {},
   "source": [
    "### Counting Blinks in the video"
   ]
  },
  {
   "cell_type": "code",
   "execution_count": 6,
   "metadata": {},
   "outputs": [],
   "source": [
    "# This function will create a OpenCV window\n",
    "def count_blinks(video):\n",
    "    # eye features regions\n",
    "    RIGHT_EYE_POINTS = list(range(36, 42))\n",
    "    LEFT_EYE_POINTS = list(range(42, 48))\n",
    "\n",
    "\n",
    "    COUNTER = 0\n",
    "    TOTAL = 0\n",
    "\n",
    "    # to detect the facial region\n",
    "    detector = dlib.get_frontal_face_detector()\n",
    "    predictor = dlib.shape_predictor(os.path.join(os.path.dirname(notebook_path), \"shape_predictor_68_face_landmarks.dat\"\n",
    "    ))\n",
    "    # capture frame from local video\n",
    "    # cap = cv2.VideoCapture(\"Home/Eye-detect-from-frame/download.jpeg\")\n",
    "    # capture video from live facecam\n",
    "#     cap = cv2.VideoCapture(0)\n",
    "\n",
    "    cap = cv2.VideoCapture(os.path.join(os.path.dirname(notebook_path), video))\n",
    "\n",
    "    while True:\n",
    "        # get the frame\n",
    "        ret, frame = cap.read()\n",
    "        #frame = cv2.resize(frame, (0, 0), fx=0.5, fy=0.5)\n",
    "        if frame is not []:\n",
    "            # convert the frame to grayscale\n",
    "            try:\n",
    "                gray = cv2.cvtColor(frame, cv2.COLOR_BGR2GRAY)\n",
    "            except:\n",
    "                print(str(TOTAL)+\" blinks found\")\n",
    "                cap.release()\n",
    "                cv2.destroyAllWindows()\n",
    "                return TOTAL\n",
    "                break;\n",
    "            # get the facial regions\n",
    "            rects = detector(gray, 0)\n",
    "            # loop through each of the facial regions\n",
    "            for rect in rects:\n",
    "                x = rect.left()\n",
    "                y = rect.top()\n",
    "                x1 = rect.right()\n",
    "                y1 = rect.bottom()\n",
    "                # get the facial landmarks\n",
    "                landmarks = np.matrix([[p.x, p.y] for p in predictor(frame, rect).parts()])\n",
    "                # get the left eye landmarks\n",
    "                left_eye = landmarks[LEFT_EYE_POINTS]\n",
    "                # get the right eye landmarks\n",
    "                right_eye = landmarks[RIGHT_EYE_POINTS]\n",
    "                # draw contours on the eyes\n",
    "                left_eye_hull = cv2.convexHull(left_eye)\n",
    "                right_eye_hull = cv2.convexHull(right_eye)\n",
    "                cv2.drawContours(frame, [left_eye_hull], -1, (0, 255, 0), 1) # (image, [contour], all_contours, color, thickness)\n",
    "                cv2.drawContours(frame, [right_eye_hull], -1, (0, 255, 0), 1)\n",
    "                # compute the EAR for the left eye\n",
    "                ear_left = eye_aspect_ratio(left_eye)\n",
    "                # compute the EAR for the right eye\n",
    "                ear_right = eye_aspect_ratio(right_eye)\n",
    "                # compute the average EAR\n",
    "                ear_avg = (ear_left + ear_right) / 2.0\n",
    "                # detect the eye blink\n",
    "                if ear_avg < EYE_AR_THRESH:\n",
    "                    COUNTER += 1\n",
    "                else:\n",
    "                    if COUNTER >= EYE_AR_CONSEC_FRAMES:\n",
    "                        TOTAL += 1\n",
    "\n",
    "                    COUNTER = 0\n",
    "\n",
    "                cv2.putText(frame, \"Blinks {}\".format(TOTAL), (10, 30), cv2.FONT_HERSHEY_DUPLEX, 0.7, (0, 255, 255), 1)\n",
    "                cv2.putText(frame, \"EAR {}\".format(ear_avg), (10, 60), cv2.FONT_HERSHEY_DUPLEX, 0.7, (0, 255, 255), 1)\n",
    "            cv2.imshow(\"Winks Found\", frame)\n",
    "            key = cv2.waitKey(1) & 0xFF\n",
    "            # When key 'Q' is pressed, exit\n",
    "            if key is ord('q'):\n",
    "                print(str(TOTAL)+\" blinks found\")\n",
    "                cap.release()\n",
    "                cv2.destroyAllWindows()\n",
    "                return TOTAL\n",
    "                break\n",
    "        else:\n",
    "            cap.release()\n",
    "            cv2.destroyAllWindows()\n",
    "            print(str(TOTAL)+\" blinks found\")\n",
    "            return TOTAL\n",
    "    # release all resources\n",
    "    cap.release()\n",
    "    # destroy all windows\n",
    "    cv2.destroyAllWindows()\n",
    "\n",
    "\n"
   ]
  },
  {
   "cell_type": "code",
   "execution_count": 7,
   "metadata": {},
   "outputs": [],
   "source": [
    "# count_blinks(\"name.mp4\")"
   ]
  },
  {
   "cell_type": "markdown",
   "metadata": {},
   "source": [
    "### Calculating EAR of each video"
   ]
  },
  {
   "cell_type": "code",
   "execution_count": 8,
   "metadata": {},
   "outputs": [],
   "source": [
    "# This function will create a OpenCV window\n",
    "def avg_ear(video):\n",
    "    # eye features regions\n",
    "    RIGHT_EYE_POINTS = list(range(36, 42))\n",
    "    LEFT_EYE_POINTS = list(range(42, 48))\n",
    "\n",
    "\n",
    "    COUNTER = 0\n",
    "    TOTAL = 0\n",
    "    EAR = 0\n",
    "    n=0\n",
    "\n",
    "    # to detect the facial region\n",
    "    detector = dlib.get_frontal_face_detector()\n",
    "    predictor = dlib.shape_predictor(os.path.join(os.path.dirname(notebook_path), \"shape_predictor_68_face_landmarks.dat\"\n",
    "    ))\n",
    "    # capture frame from local video\n",
    "    # cap = cv2.VideoCapture(\"Home/Eye-detect-from-frame/download.jpeg\")\n",
    "    # capture video from live facecam\n",
    "#     cap = cv2.VideoCapture(0)\n",
    "\n",
    "    cap = cv2.VideoCapture(os.path.join(os.path.dirname(notebook_path), video))\n",
    "\n",
    "    while True:\n",
    "        # get the frame\n",
    "        ret, frame = cap.read()\n",
    "        #frame = cv2.resize(frame, (0, 0), fx=0.5, fy=0.5)\n",
    "        if (frame is not []) & ret == True:\n",
    "            # convert the frame to grayscale\n",
    "            try:\n",
    "                gray = cv2.cvtColor(frame, cv2.COLOR_BGR2GRAY)\n",
    "            except:\n",
    "                print(str(EAR/n)+\" is the average EAR of this video\")\n",
    "                cap.release()\n",
    "                cv2.destroyAllWindows()\n",
    "                return (EAR/n)\n",
    "                break;\n",
    "            # get the facial regions\n",
    "            rects = detector(gray, 0)\n",
    "            # loop through each of the facial regions\n",
    "            for rect in rects:\n",
    "                x = rect.left()\n",
    "                y = rect.top()\n",
    "                x1 = rect.right()\n",
    "                y1 = rect.bottom()\n",
    "                # get the facial landmarks\n",
    "                landmarks = np.matrix([[p.x, p.y] for p in predictor(frame, rect).parts()])\n",
    "                # get the left eye landmarks\n",
    "                left_eye = landmarks[LEFT_EYE_POINTS]\n",
    "                # get the right eye landmarks\n",
    "                right_eye = landmarks[RIGHT_EYE_POINTS]\n",
    "                # draw contours on the eyes\n",
    "                left_eye_hull = cv2.convexHull(left_eye)\n",
    "                right_eye_hull = cv2.convexHull(right_eye)\n",
    "                cv2.drawContours(frame, [left_eye_hull], -1, (0, 255, 0), 1) # (image, [contour], all_contours, color, thickness)\n",
    "                cv2.drawContours(frame, [right_eye_hull], -1, (0, 255, 0), 1)\n",
    "                # compute the EAR for the left eye\n",
    "                ear_left = eye_aspect_ratio(left_eye)\n",
    "                # compute the EAR for the right eye\n",
    "                ear_right = eye_aspect_ratio(right_eye)\n",
    "                # compute the average EAR\n",
    "                ear_avg = (ear_left + ear_right) / 2.0\n",
    "                # detect the eye blink\n",
    "                EAR+= ear_avg\n",
    "                n+=1\n",
    "                if ear_avg < EYE_AR_THRESH:\n",
    "                    COUNTER += 1\n",
    "                else:\n",
    "                    if COUNTER >= EYE_AR_CONSEC_FRAMES:\n",
    "                        TOTAL += 1\n",
    "\n",
    "                    COUNTER = 0\n",
    "\n",
    "                cv2.putText(frame, \"Blinks {}\".format(TOTAL), (10, 30), cv2.FONT_HERSHEY_DUPLEX, 0.7, (0, 255, 255), 1)\n",
    "                cv2.putText(frame, \"EAR {}\".format(ear_avg), (10, 60), cv2.FONT_HERSHEY_DUPLEX, 0.7, (0, 255, 255), 1)\n",
    "            cv2.imshow(\"Winks Found\", frame)\n",
    "            key = cv2.waitKey(1) & 0xFF\n",
    "            # When key 'Q' is pressed, exit\n",
    "            if key is ord('q'):\n",
    "                print(\"Total no. of blinks are\",TOTAL)\n",
    "                break\n",
    "        else:\n",
    "            print(str(EAR/n)+\" is the average EAR of this video\")\n",
    "            cap.release()\n",
    "            cv2.destroyAllWindows()\n",
    "            return (EAR/n)\n",
    "            break\n",
    "    # release all resources\n",
    "    cap.release()\n",
    "    # destroy all windows\n",
    "    cv2.destroyAllWindows()"
   ]
  },
  {
   "cell_type": "code",
   "execution_count": 9,
   "metadata": {},
   "outputs": [],
   "source": [
    "# avg_ear(\"1.mp4\")"
   ]
  },
  {
   "cell_type": "code",
   "execution_count": 10,
   "metadata": {},
   "outputs": [],
   "source": [
    "def count_blinks_ear(video):\n",
    "    # eye features regions\n",
    "    RIGHT_EYE_POINTS = list(range(36, 42))\n",
    "    LEFT_EYE_POINTS = list(range(42, 48))\n",
    "\n",
    "\n",
    "    COUNTER = 0\n",
    "    TOTAL = 0\n",
    "    EAR = 0\n",
    "    n=0\n",
    "\n",
    "    # to detect the facial region\n",
    "    detector = dlib.get_frontal_face_detector()\n",
    "    predictor = dlib.shape_predictor(os.path.join(os.path.dirname(notebook_path), \"shape_predictor_68_face_landmarks.dat\"\n",
    "    ))\n",
    "    cap = cv2.VideoCapture(os.path.join(os.path.dirname(notebook_path), video))\n",
    "    frames = cap.get(cv2.CAP_PROP_FRAME_COUNT) \n",
    "    fps = int(cap.get(cv2.CAP_PROP_FPS)) \n",
    "    duration = int(frames / fps)\n",
    "    while True:\n",
    "        # get the frame\n",
    "        ret, frame = cap.read()\n",
    "        #frame = cv2.resize(frame, (0, 0), fx=0.5, fy=0.5)\n",
    "        if frame is not []:\n",
    "            # convert the frame to grayscale\n",
    "            try:\n",
    "                gray = cv2.cvtColor(frame, cv2.COLOR_BGR2GRAY)\n",
    "            except:\n",
    "                print(str(TOTAL)+\" blinks found\")\n",
    "                cap.release()\n",
    "                cv2.destroyAllWindows()\n",
    "                return (TOTAL,EAR/n,duration)\n",
    "                break;\n",
    "            # get the facial regions\n",
    "            rects = detector(gray, 0)\n",
    "            # loop through each of the facial regions\n",
    "            for rect in rects:\n",
    "                x = rect.left()\n",
    "                y = rect.top()\n",
    "                x1 = rect.right()\n",
    "                y1 = rect.bottom()\n",
    "                # get the facial landmarks\n",
    "                landmarks = np.matrix([[p.x, p.y] for p in predictor(frame, rect).parts()])\n",
    "                # get the left eye landmarks\n",
    "                left_eye = landmarks[LEFT_EYE_POINTS]\n",
    "                # get the right eye landmarks\n",
    "                right_eye = landmarks[RIGHT_EYE_POINTS]\n",
    "                # draw contours on the eyes\n",
    "                left_eye_hull = cv2.convexHull(left_eye)\n",
    "                right_eye_hull = cv2.convexHull(right_eye)\n",
    "                cv2.drawContours(frame, [left_eye_hull], -1, (0, 255, 0), 1) # (image, [contour], all_contours, color, thickness)\n",
    "                cv2.drawContours(frame, [right_eye_hull], -1, (0, 255, 0), 1)\n",
    "                # compute the EAR for the left eye\n",
    "                ear_left = eye_aspect_ratio(left_eye)\n",
    "                # compute the EAR for the right eye\n",
    "                ear_right = eye_aspect_ratio(right_eye)\n",
    "                # compute the average EAR\n",
    "                ear_avg = (ear_left + ear_right) / 2.0\n",
    "                # detect the eye blink\n",
    "                EAR+= ear_avg\n",
    "                n+=1\n",
    "                if ear_avg < EYE_AR_THRESH:\n",
    "                    COUNTER += 1\n",
    "                else:\n",
    "                    if COUNTER >= EYE_AR_CONSEC_FRAMES:\n",
    "                        TOTAL += 1\n",
    "\n",
    "                    COUNTER = 0\n",
    "        else:\n",
    "            cap.release()\n",
    "            cv2.destroyAllWindows()\n",
    "            return (TOTAL,EAR/n,duration)\n",
    "    # release all resources\n",
    "    cap.release()\n",
    "    # destroy all windows\n",
    "    cv2.destroyAllWindows()"
   ]
  },
  {
   "cell_type": "markdown",
   "metadata": {},
   "source": [
    "### Creating DataSet for DF-Real\n",
    "* This will take long time"
   ]
  },
  {
   "cell_type": "code",
   "execution_count": 11,
   "metadata": {},
   "outputs": [],
   "source": [
    "# arr = os.listdir('./Celeb-DF/Celeb-real')\n",
    "\n",
    "# df = pd.DataFrame(columns = ['Name', 'Blinks','Average_EAR','FakeOReal','Duration']) \n",
    "\n",
    "# for i,name in enumerate(arr):\n",
    "# #     if(i>=5):\n",
    "# #         break\n",
    "#     path = \"./Celeb-DF/Celeb-real/\"+str(name)\n",
    "#     a=count_blinks_ear(path)\n",
    "#     new_row = {'Name':name, 'Blinks':a[0],'Average_EAR':a[1],'FakeOReal':'Real','Duration':a[2]}\n",
    "#     df= df.append(new_row, ignore_index=True)"
   ]
  },
  {
   "cell_type": "code",
   "execution_count": 12,
   "metadata": {},
   "outputs": [],
   "source": [
    "# df.to_csv('DF-real.csv', index = True)"
   ]
  },
  {
   "cell_type": "code",
   "execution_count": 13,
   "metadata": {},
   "outputs": [],
   "source": [
    "import csv\n",
    "\n",
    "csvfile1 = pd.read_csv('DF-real.csv', encoding='utf-8')"
   ]
  },
  {
   "cell_type": "code",
   "execution_count": 14,
   "metadata": {},
   "outputs": [
    {
     "data": {
      "text/html": [
       "<div>\n",
       "<style scoped>\n",
       "    .dataframe tbody tr th:only-of-type {\n",
       "        vertical-align: middle;\n",
       "    }\n",
       "\n",
       "    .dataframe tbody tr th {\n",
       "        vertical-align: top;\n",
       "    }\n",
       "\n",
       "    .dataframe thead th {\n",
       "        text-align: right;\n",
       "    }\n",
       "</style>\n",
       "<table border=\"1\" class=\"dataframe\">\n",
       "  <thead>\n",
       "    <tr style=\"text-align: right;\">\n",
       "      <th></th>\n",
       "      <th>Unnamed: 0</th>\n",
       "      <th>Name</th>\n",
       "      <th>Blinks</th>\n",
       "      <th>Average_EAR</th>\n",
       "      <th>FakeOReal</th>\n",
       "      <th>Duration</th>\n",
       "    </tr>\n",
       "  </thead>\n",
       "  <tbody>\n",
       "    <tr>\n",
       "      <th>0</th>\n",
       "      <td>0</td>\n",
       "      <td>id7_0001.mp4</td>\n",
       "      <td>4</td>\n",
       "      <td>0.296071</td>\n",
       "      <td>Real</td>\n",
       "      <td>9</td>\n",
       "    </tr>\n",
       "    <tr>\n",
       "      <th>1</th>\n",
       "      <td>1</td>\n",
       "      <td>id12_0006.mp4</td>\n",
       "      <td>0</td>\n",
       "      <td>0.336012</td>\n",
       "      <td>Real</td>\n",
       "      <td>10</td>\n",
       "    </tr>\n",
       "    <tr>\n",
       "      <th>2</th>\n",
       "      <td>2</td>\n",
       "      <td>id11_0007.mp4</td>\n",
       "      <td>3</td>\n",
       "      <td>0.334730</td>\n",
       "      <td>Real</td>\n",
       "      <td>10</td>\n",
       "    </tr>\n",
       "    <tr>\n",
       "      <th>3</th>\n",
       "      <td>3</td>\n",
       "      <td>id7_0007.mp4</td>\n",
       "      <td>4</td>\n",
       "      <td>0.305010</td>\n",
       "      <td>Real</td>\n",
       "      <td>13</td>\n",
       "    </tr>\n",
       "    <tr>\n",
       "      <th>4</th>\n",
       "      <td>4</td>\n",
       "      <td>id17_0005.mp4</td>\n",
       "      <td>10</td>\n",
       "      <td>0.254423</td>\n",
       "      <td>Real</td>\n",
       "      <td>10</td>\n",
       "    </tr>\n",
       "    <tr>\n",
       "      <th>...</th>\n",
       "      <td>...</td>\n",
       "      <td>...</td>\n",
       "      <td>...</td>\n",
       "      <td>...</td>\n",
       "      <td>...</td>\n",
       "      <td>...</td>\n",
       "    </tr>\n",
       "    <tr>\n",
       "      <th>153</th>\n",
       "      <td>153</td>\n",
       "      <td>id10_0007.mp4</td>\n",
       "      <td>5</td>\n",
       "      <td>0.334236</td>\n",
       "      <td>Real</td>\n",
       "      <td>16</td>\n",
       "    </tr>\n",
       "    <tr>\n",
       "      <th>154</th>\n",
       "      <td>154</td>\n",
       "      <td>id12_0002.mp4</td>\n",
       "      <td>0</td>\n",
       "      <td>0.357227</td>\n",
       "      <td>Real</td>\n",
       "      <td>12</td>\n",
       "    </tr>\n",
       "    <tr>\n",
       "      <th>155</th>\n",
       "      <td>155</td>\n",
       "      <td>id6_0000.mp4</td>\n",
       "      <td>2</td>\n",
       "      <td>0.336176</td>\n",
       "      <td>Real</td>\n",
       "      <td>21</td>\n",
       "    </tr>\n",
       "    <tr>\n",
       "      <th>156</th>\n",
       "      <td>156</td>\n",
       "      <td>id0_0002.mp4</td>\n",
       "      <td>13</td>\n",
       "      <td>0.197223</td>\n",
       "      <td>Real</td>\n",
       "      <td>11</td>\n",
       "    </tr>\n",
       "    <tr>\n",
       "      <th>157</th>\n",
       "      <td>157</td>\n",
       "      <td>id13_0014.mp4</td>\n",
       "      <td>2</td>\n",
       "      <td>0.332709</td>\n",
       "      <td>Real</td>\n",
       "      <td>13</td>\n",
       "    </tr>\n",
       "  </tbody>\n",
       "</table>\n",
       "<p>158 rows × 6 columns</p>\n",
       "</div>"
      ],
      "text/plain": [
       "     Unnamed: 0           Name  Blinks  Average_EAR FakeOReal  Duration\n",
       "0             0   id7_0001.mp4       4     0.296071      Real         9\n",
       "1             1  id12_0006.mp4       0     0.336012      Real        10\n",
       "2             2  id11_0007.mp4       3     0.334730      Real        10\n",
       "3             3   id7_0007.mp4       4     0.305010      Real        13\n",
       "4             4  id17_0005.mp4      10     0.254423      Real        10\n",
       "..          ...            ...     ...          ...       ...       ...\n",
       "153         153  id10_0007.mp4       5     0.334236      Real        16\n",
       "154         154  id12_0002.mp4       0     0.357227      Real        12\n",
       "155         155   id6_0000.mp4       2     0.336176      Real        21\n",
       "156         156   id0_0002.mp4      13     0.197223      Real        11\n",
       "157         157  id13_0014.mp4       2     0.332709      Real        13\n",
       "\n",
       "[158 rows x 6 columns]"
      ]
     },
     "execution_count": 14,
     "metadata": {},
     "output_type": "execute_result"
    }
   ],
   "source": [
    "csvfile1"
   ]
  },
  {
   "cell_type": "markdown",
   "metadata": {},
   "source": [
    "### Creating DataSet for DF-Fake\n",
    "* This will take long time"
   ]
  },
  {
   "cell_type": "code",
   "execution_count": 15,
   "metadata": {},
   "outputs": [],
   "source": [
    "# arr = os.listdir('./Celeb-DF/Celeb-synthesis')\n",
    "\n",
    "# df2 = pd.DataFrame(columns = ['Name', 'Blinks','Average_EAR','FakeOReal','Duration']) \n",
    "\n",
    "# for i,name in enumerate(arr):\n",
    "#     path = \"./Celeb-DF/Celeb-synthesis/\"+str(name)\n",
    "#     a=count_blinks_ear(path)\n",
    "#     new_row = {'Name':name, 'Blinks':a[0],'Average_EAR':a[1],'FakeOReal':'Fake','Duration':a[2]}\n",
    "#     df2= df2.append(new_row, ignore_index=True)"
   ]
  },
  {
   "cell_type": "code",
   "execution_count": 16,
   "metadata": {},
   "outputs": [],
   "source": [
    "# df2.to_csv('DF-synthesis.csv', index = True)"
   ]
  },
  {
   "cell_type": "code",
   "execution_count": 17,
   "metadata": {},
   "outputs": [],
   "source": [
    "csvfile2 = pd.read_csv('DF-synthesis.csv', encoding='utf-8')"
   ]
  },
  {
   "cell_type": "code",
   "execution_count": 18,
   "metadata": {},
   "outputs": [
    {
     "data": {
      "text/html": [
       "<div>\n",
       "<style scoped>\n",
       "    .dataframe tbody tr th:only-of-type {\n",
       "        vertical-align: middle;\n",
       "    }\n",
       "\n",
       "    .dataframe tbody tr th {\n",
       "        vertical-align: top;\n",
       "    }\n",
       "\n",
       "    .dataframe thead th {\n",
       "        text-align: right;\n",
       "    }\n",
       "</style>\n",
       "<table border=\"1\" class=\"dataframe\">\n",
       "  <thead>\n",
       "    <tr style=\"text-align: right;\">\n",
       "      <th></th>\n",
       "      <th>Unnamed: 0</th>\n",
       "      <th>Name</th>\n",
       "      <th>Blinks</th>\n",
       "      <th>Average_EAR</th>\n",
       "      <th>FakeOReal</th>\n",
       "      <th>Duration</th>\n",
       "    </tr>\n",
       "  </thead>\n",
       "  <tbody>\n",
       "    <tr>\n",
       "      <th>0</th>\n",
       "      <td>0</td>\n",
       "      <td>id1_id3_0004.mp4</td>\n",
       "      <td>12</td>\n",
       "      <td>0.262394</td>\n",
       "      <td>Fake</td>\n",
       "      <td>13</td>\n",
       "    </tr>\n",
       "    <tr>\n",
       "      <th>1</th>\n",
       "      <td>1</td>\n",
       "      <td>id3_id6_0008.mp4</td>\n",
       "      <td>1</td>\n",
       "      <td>0.294461</td>\n",
       "      <td>Fake</td>\n",
       "      <td>15</td>\n",
       "    </tr>\n",
       "    <tr>\n",
       "      <th>2</th>\n",
       "      <td>2</td>\n",
       "      <td>id4_id2_0009.mp4</td>\n",
       "      <td>8</td>\n",
       "      <td>0.300553</td>\n",
       "      <td>Fake</td>\n",
       "      <td>16</td>\n",
       "    </tr>\n",
       "    <tr>\n",
       "      <th>3</th>\n",
       "      <td>3</td>\n",
       "      <td>id9_id2_0007.mp4</td>\n",
       "      <td>9</td>\n",
       "      <td>0.261735</td>\n",
       "      <td>Fake</td>\n",
       "      <td>15</td>\n",
       "    </tr>\n",
       "    <tr>\n",
       "      <th>4</th>\n",
       "      <td>4</td>\n",
       "      <td>id13_id10_0000.mp4</td>\n",
       "      <td>1</td>\n",
       "      <td>0.380302</td>\n",
       "      <td>Fake</td>\n",
       "      <td>10</td>\n",
       "    </tr>\n",
       "    <tr>\n",
       "      <th>...</th>\n",
       "      <td>...</td>\n",
       "      <td>...</td>\n",
       "      <td>...</td>\n",
       "      <td>...</td>\n",
       "      <td>...</td>\n",
       "      <td>...</td>\n",
       "    </tr>\n",
       "    <tr>\n",
       "      <th>764</th>\n",
       "      <td>764</td>\n",
       "      <td>id3_id17_0005.mp4</td>\n",
       "      <td>11</td>\n",
       "      <td>0.244996</td>\n",
       "      <td>Fake</td>\n",
       "      <td>13</td>\n",
       "    </tr>\n",
       "    <tr>\n",
       "      <th>765</th>\n",
       "      <td>765</td>\n",
       "      <td>id16_id3_0007.mp4</td>\n",
       "      <td>4</td>\n",
       "      <td>0.295902</td>\n",
       "      <td>Fake</td>\n",
       "      <td>9</td>\n",
       "    </tr>\n",
       "    <tr>\n",
       "      <th>766</th>\n",
       "      <td>766</td>\n",
       "      <td>id2_id4_0003.mp4</td>\n",
       "      <td>7</td>\n",
       "      <td>0.262514</td>\n",
       "      <td>Fake</td>\n",
       "      <td>12</td>\n",
       "    </tr>\n",
       "    <tr>\n",
       "      <th>767</th>\n",
       "      <td>767</td>\n",
       "      <td>id2_id17_0006.mp4</td>\n",
       "      <td>9</td>\n",
       "      <td>0.283234</td>\n",
       "      <td>Fake</td>\n",
       "      <td>12</td>\n",
       "    </tr>\n",
       "    <tr>\n",
       "      <th>768</th>\n",
       "      <td>768</td>\n",
       "      <td>id17_id2_0003.mp4</td>\n",
       "      <td>1</td>\n",
       "      <td>0.293035</td>\n",
       "      <td>Fake</td>\n",
       "      <td>8</td>\n",
       "    </tr>\n",
       "  </tbody>\n",
       "</table>\n",
       "<p>769 rows × 6 columns</p>\n",
       "</div>"
      ],
      "text/plain": [
       "     Unnamed: 0                Name  Blinks  Average_EAR FakeOReal  Duration\n",
       "0             0    id1_id3_0004.mp4      12     0.262394      Fake        13\n",
       "1             1    id3_id6_0008.mp4       1     0.294461      Fake        15\n",
       "2             2    id4_id2_0009.mp4       8     0.300553      Fake        16\n",
       "3             3    id9_id2_0007.mp4       9     0.261735      Fake        15\n",
       "4             4  id13_id10_0000.mp4       1     0.380302      Fake        10\n",
       "..          ...                 ...     ...          ...       ...       ...\n",
       "764         764   id3_id17_0005.mp4      11     0.244996      Fake        13\n",
       "765         765   id16_id3_0007.mp4       4     0.295902      Fake         9\n",
       "766         766    id2_id4_0003.mp4       7     0.262514      Fake        12\n",
       "767         767   id2_id17_0006.mp4       9     0.283234      Fake        12\n",
       "768         768   id17_id2_0003.mp4       1     0.293035      Fake         8\n",
       "\n",
       "[769 rows x 6 columns]"
      ]
     },
     "execution_count": 18,
     "metadata": {},
     "output_type": "execute_result"
    }
   ],
   "source": [
    "csvfile2"
   ]
  },
  {
   "cell_type": "markdown",
   "metadata": {},
   "source": [
    "### Creating DataSet for DF-Fake\n",
    "* This will take long time"
   ]
  },
  {
   "cell_type": "code",
   "execution_count": 19,
   "metadata": {},
   "outputs": [],
   "source": [
    "# arr = os.listdir('./Celeb-DF/YouTube-real')\n",
    "\n",
    "# df = pd.DataFrame(columns = ['Name', 'Blinks','Average_EAR','FakeOReal','Duration']) \n",
    "\n",
    "# for i,name in enumerate(arr):\n",
    "#     print(i)\n",
    "#     path = \"./Celeb-DF/YouTube-real/\"+str(name)\n",
    "#     a=count_blinks_ear(path)\n",
    "#     new_row = {'Name':name, 'Blinks':a[0],'Average_EAR':a[1],'FakeOReal':'Real','Duration':a[2]}\n",
    "#     df= df.append(new_row, ignore_index=True)\n",
    "    \n",
    "# df.to_csv('DF-Youtube.csv', index = True)\n"
   ]
  },
  {
   "cell_type": "code",
   "execution_count": 20,
   "metadata": {},
   "outputs": [
    {
     "data": {
      "text/html": [
       "<div>\n",
       "<style scoped>\n",
       "    .dataframe tbody tr th:only-of-type {\n",
       "        vertical-align: middle;\n",
       "    }\n",
       "\n",
       "    .dataframe tbody tr th {\n",
       "        vertical-align: top;\n",
       "    }\n",
       "\n",
       "    .dataframe thead th {\n",
       "        text-align: right;\n",
       "    }\n",
       "</style>\n",
       "<table border=\"1\" class=\"dataframe\">\n",
       "  <thead>\n",
       "    <tr style=\"text-align: right;\">\n",
       "      <th></th>\n",
       "      <th>Unnamed: 0</th>\n",
       "      <th>Name</th>\n",
       "      <th>Blinks</th>\n",
       "      <th>Average_EAR</th>\n",
       "      <th>FakeOReal</th>\n",
       "      <th>Duration</th>\n",
       "    </tr>\n",
       "  </thead>\n",
       "  <tbody>\n",
       "    <tr>\n",
       "      <th>0</th>\n",
       "      <td>0</td>\n",
       "      <td>00154.mp4</td>\n",
       "      <td>11</td>\n",
       "      <td>0.250224</td>\n",
       "      <td>Real</td>\n",
       "      <td>12</td>\n",
       "    </tr>\n",
       "    <tr>\n",
       "      <th>1</th>\n",
       "      <td>1</td>\n",
       "      <td>00238.mp4</td>\n",
       "      <td>8</td>\n",
       "      <td>0.299471</td>\n",
       "      <td>Real</td>\n",
       "      <td>14</td>\n",
       "    </tr>\n",
       "    <tr>\n",
       "      <th>2</th>\n",
       "      <td>2</td>\n",
       "      <td>00181.mp4</td>\n",
       "      <td>0</td>\n",
       "      <td>0.336664</td>\n",
       "      <td>Real</td>\n",
       "      <td>13</td>\n",
       "    </tr>\n",
       "    <tr>\n",
       "      <th>3</th>\n",
       "      <td>3</td>\n",
       "      <td>00180.mp4</td>\n",
       "      <td>0</td>\n",
       "      <td>0.321918</td>\n",
       "      <td>Real</td>\n",
       "      <td>11</td>\n",
       "    </tr>\n",
       "    <tr>\n",
       "      <th>4</th>\n",
       "      <td>4</td>\n",
       "      <td>00159.mp4</td>\n",
       "      <td>7</td>\n",
       "      <td>0.262727</td>\n",
       "      <td>Real</td>\n",
       "      <td>14</td>\n",
       "    </tr>\n",
       "    <tr>\n",
       "      <th>...</th>\n",
       "      <td>...</td>\n",
       "      <td>...</td>\n",
       "      <td>...</td>\n",
       "      <td>...</td>\n",
       "      <td>...</td>\n",
       "      <td>...</td>\n",
       "    </tr>\n",
       "    <tr>\n",
       "      <th>245</th>\n",
       "      <td>245</td>\n",
       "      <td>00069.mp4</td>\n",
       "      <td>0</td>\n",
       "      <td>0.336298</td>\n",
       "      <td>Real</td>\n",
       "      <td>14</td>\n",
       "    </tr>\n",
       "    <tr>\n",
       "      <th>246</th>\n",
       "      <td>246</td>\n",
       "      <td>00223.mp4</td>\n",
       "      <td>4</td>\n",
       "      <td>0.377876</td>\n",
       "      <td>Real</td>\n",
       "      <td>16</td>\n",
       "    </tr>\n",
       "    <tr>\n",
       "      <th>247</th>\n",
       "      <td>247</td>\n",
       "      <td>00194.mp4</td>\n",
       "      <td>11</td>\n",
       "      <td>0.289096</td>\n",
       "      <td>Real</td>\n",
       "      <td>15</td>\n",
       "    </tr>\n",
       "    <tr>\n",
       "      <th>248</th>\n",
       "      <td>248</td>\n",
       "      <td>00229.mp4</td>\n",
       "      <td>0</td>\n",
       "      <td>0.399805</td>\n",
       "      <td>Real</td>\n",
       "      <td>17</td>\n",
       "    </tr>\n",
       "    <tr>\n",
       "      <th>249</th>\n",
       "      <td>249</td>\n",
       "      <td>00071.mp4</td>\n",
       "      <td>4</td>\n",
       "      <td>0.303862</td>\n",
       "      <td>Real</td>\n",
       "      <td>16</td>\n",
       "    </tr>\n",
       "  </tbody>\n",
       "</table>\n",
       "<p>250 rows × 6 columns</p>\n",
       "</div>"
      ],
      "text/plain": [
       "     Unnamed: 0       Name  Blinks  Average_EAR FakeOReal  Duration\n",
       "0             0  00154.mp4      11     0.250224      Real        12\n",
       "1             1  00238.mp4       8     0.299471      Real        14\n",
       "2             2  00181.mp4       0     0.336664      Real        13\n",
       "3             3  00180.mp4       0     0.321918      Real        11\n",
       "4             4  00159.mp4       7     0.262727      Real        14\n",
       "..          ...        ...     ...          ...       ...       ...\n",
       "245         245  00069.mp4       0     0.336298      Real        14\n",
       "246         246  00223.mp4       4     0.377876      Real        16\n",
       "247         247  00194.mp4      11     0.289096      Real        15\n",
       "248         248  00229.mp4       0     0.399805      Real        17\n",
       "249         249  00071.mp4       4     0.303862      Real        16\n",
       "\n",
       "[250 rows x 6 columns]"
      ]
     },
     "execution_count": 20,
     "metadata": {},
     "output_type": "execute_result"
    }
   ],
   "source": [
    "csvfile3 = pd.read_csv('DF-Youtube.csv', encoding='utf-8')\n",
    "csvfile3"
   ]
  },
  {
   "cell_type": "code",
   "execution_count": 21,
   "metadata": {},
   "outputs": [],
   "source": [
    "combined = pd.concat([csvfile1, csvfile2, csvfile3])\n"
   ]
  },
  {
   "cell_type": "code",
   "execution_count": 22,
   "metadata": {},
   "outputs": [],
   "source": [
    "# combined.drop(['Unnamed: 0'], axis = 1) "
   ]
  },
  {
   "cell_type": "code",
   "execution_count": 23,
   "metadata": {},
   "outputs": [],
   "source": [
    "# ds = combined.sample(frac=1)\n",
    "# ds.drop(['Unnamed: 0'], axis = 1) "
   ]
  },
  {
   "cell_type": "code",
   "execution_count": 24,
   "metadata": {},
   "outputs": [],
   "source": [
    "# ds.to_csv('DF-combined.csv', index = True)"
   ]
  },
  {
   "cell_type": "code",
   "execution_count": 25,
   "metadata": {},
   "outputs": [],
   "source": [
    "finalData = pd.read_csv('DF-combined.csv', encoding='utf-8')"
   ]
  },
  {
   "cell_type": "code",
   "execution_count": 26,
   "metadata": {},
   "outputs": [
    {
     "data": {
      "text/html": [
       "<div>\n",
       "<style scoped>\n",
       "    .dataframe tbody tr th:only-of-type {\n",
       "        vertical-align: middle;\n",
       "    }\n",
       "\n",
       "    .dataframe tbody tr th {\n",
       "        vertical-align: top;\n",
       "    }\n",
       "\n",
       "    .dataframe thead th {\n",
       "        text-align: right;\n",
       "    }\n",
       "</style>\n",
       "<table border=\"1\" class=\"dataframe\">\n",
       "  <thead>\n",
       "    <tr style=\"text-align: right;\">\n",
       "      <th></th>\n",
       "      <th>Name</th>\n",
       "      <th>Blinks</th>\n",
       "      <th>Average_EAR</th>\n",
       "      <th>FakeOReal</th>\n",
       "      <th>Duration</th>\n",
       "    </tr>\n",
       "  </thead>\n",
       "  <tbody>\n",
       "    <tr>\n",
       "      <th>0</th>\n",
       "      <td>id6_id1_0001.mp4</td>\n",
       "      <td>4</td>\n",
       "      <td>0.265516</td>\n",
       "      <td>Fake</td>\n",
       "      <td>10</td>\n",
       "    </tr>\n",
       "    <tr>\n",
       "      <th>1</th>\n",
       "      <td>id16_0005.mp4</td>\n",
       "      <td>9</td>\n",
       "      <td>0.309802</td>\n",
       "      <td>Real</td>\n",
       "      <td>11</td>\n",
       "    </tr>\n",
       "    <tr>\n",
       "      <th>2</th>\n",
       "      <td>id11_id7_0005.mp4</td>\n",
       "      <td>3</td>\n",
       "      <td>0.302121</td>\n",
       "      <td>Fake</td>\n",
       "      <td>10</td>\n",
       "    </tr>\n",
       "    <tr>\n",
       "      <th>3</th>\n",
       "      <td>id3_id1_0009.mp4</td>\n",
       "      <td>7</td>\n",
       "      <td>0.297112</td>\n",
       "      <td>Fake</td>\n",
       "      <td>16</td>\n",
       "    </tr>\n",
       "    <tr>\n",
       "      <th>4</th>\n",
       "      <td>id3_id1_0007.mp4</td>\n",
       "      <td>6</td>\n",
       "      <td>0.295055</td>\n",
       "      <td>Fake</td>\n",
       "      <td>12</td>\n",
       "    </tr>\n",
       "    <tr>\n",
       "      <th>...</th>\n",
       "      <td>...</td>\n",
       "      <td>...</td>\n",
       "      <td>...</td>\n",
       "      <td>...</td>\n",
       "      <td>...</td>\n",
       "    </tr>\n",
       "    <tr>\n",
       "      <th>1172</th>\n",
       "      <td>id0_id1_0005.mp4</td>\n",
       "      <td>10</td>\n",
       "      <td>0.182331</td>\n",
       "      <td>Fake</td>\n",
       "      <td>15</td>\n",
       "    </tr>\n",
       "    <tr>\n",
       "      <th>1173</th>\n",
       "      <td>id10_id7_0004.mp4</td>\n",
       "      <td>5</td>\n",
       "      <td>0.363097</td>\n",
       "      <td>Fake</td>\n",
       "      <td>17</td>\n",
       "    </tr>\n",
       "    <tr>\n",
       "      <th>1174</th>\n",
       "      <td>id0_id4_0001.mp4</td>\n",
       "      <td>7</td>\n",
       "      <td>0.300470</td>\n",
       "      <td>Fake</td>\n",
       "      <td>10</td>\n",
       "    </tr>\n",
       "    <tr>\n",
       "      <th>1175</th>\n",
       "      <td>id6_id2_0000.mp4</td>\n",
       "      <td>2</td>\n",
       "      <td>0.329851</td>\n",
       "      <td>Fake</td>\n",
       "      <td>21</td>\n",
       "    </tr>\n",
       "    <tr>\n",
       "      <th>1176</th>\n",
       "      <td>id13_id7_0002.mp4</td>\n",
       "      <td>6</td>\n",
       "      <td>0.211128</td>\n",
       "      <td>Fake</td>\n",
       "      <td>13</td>\n",
       "    </tr>\n",
       "  </tbody>\n",
       "</table>\n",
       "<p>1177 rows × 5 columns</p>\n",
       "</div>"
      ],
      "text/plain": [
       "                   Name  Blinks  Average_EAR FakeOReal  Duration\n",
       "0      id6_id1_0001.mp4       4     0.265516      Fake        10\n",
       "1         id16_0005.mp4       9     0.309802      Real        11\n",
       "2     id11_id7_0005.mp4       3     0.302121      Fake        10\n",
       "3      id3_id1_0009.mp4       7     0.297112      Fake        16\n",
       "4      id3_id1_0007.mp4       6     0.295055      Fake        12\n",
       "...                 ...     ...          ...       ...       ...\n",
       "1172   id0_id1_0005.mp4      10     0.182331      Fake        15\n",
       "1173  id10_id7_0004.mp4       5     0.363097      Fake        17\n",
       "1174   id0_id4_0001.mp4       7     0.300470      Fake        10\n",
       "1175   id6_id2_0000.mp4       2     0.329851      Fake        21\n",
       "1176  id13_id7_0002.mp4       6     0.211128      Fake        13\n",
       "\n",
       "[1177 rows x 5 columns]"
      ]
     },
     "execution_count": 26,
     "metadata": {},
     "output_type": "execute_result"
    }
   ],
   "source": [
    "finalData"
   ]
  },
  {
   "cell_type": "markdown",
   "metadata": {},
   "source": [
    "# Creating Models"
   ]
  },
  {
   "cell_type": "code",
   "execution_count": 28,
   "metadata": {},
   "outputs": [
    {
     "data": {
      "text/html": [
       "<div>\n",
       "<style scoped>\n",
       "    .dataframe tbody tr th:only-of-type {\n",
       "        vertical-align: middle;\n",
       "    }\n",
       "\n",
       "    .dataframe tbody tr th {\n",
       "        vertical-align: top;\n",
       "    }\n",
       "\n",
       "    .dataframe thead th {\n",
       "        text-align: right;\n",
       "    }\n",
       "</style>\n",
       "<table border=\"1\" class=\"dataframe\">\n",
       "  <thead>\n",
       "    <tr style=\"text-align: right;\">\n",
       "      <th></th>\n",
       "      <th>Name</th>\n",
       "      <th>Blinks</th>\n",
       "      <th>Average_EAR</th>\n",
       "      <th>FakeOReal</th>\n",
       "      <th>Duration</th>\n",
       "      <th>Blinks-per-second</th>\n",
       "    </tr>\n",
       "  </thead>\n",
       "  <tbody>\n",
       "    <tr>\n",
       "      <th>0</th>\n",
       "      <td>id6_id1_0001.mp4</td>\n",
       "      <td>4</td>\n",
       "      <td>0.265516</td>\n",
       "      <td>Fake</td>\n",
       "      <td>10</td>\n",
       "      <td>0.400000</td>\n",
       "    </tr>\n",
       "    <tr>\n",
       "      <th>1</th>\n",
       "      <td>id16_0005.mp4</td>\n",
       "      <td>9</td>\n",
       "      <td>0.309802</td>\n",
       "      <td>Real</td>\n",
       "      <td>11</td>\n",
       "      <td>0.818182</td>\n",
       "    </tr>\n",
       "    <tr>\n",
       "      <th>2</th>\n",
       "      <td>id11_id7_0005.mp4</td>\n",
       "      <td>3</td>\n",
       "      <td>0.302121</td>\n",
       "      <td>Fake</td>\n",
       "      <td>10</td>\n",
       "      <td>0.300000</td>\n",
       "    </tr>\n",
       "    <tr>\n",
       "      <th>3</th>\n",
       "      <td>id3_id1_0009.mp4</td>\n",
       "      <td>7</td>\n",
       "      <td>0.297112</td>\n",
       "      <td>Fake</td>\n",
       "      <td>16</td>\n",
       "      <td>0.437500</td>\n",
       "    </tr>\n",
       "    <tr>\n",
       "      <th>4</th>\n",
       "      <td>id3_id1_0007.mp4</td>\n",
       "      <td>6</td>\n",
       "      <td>0.295055</td>\n",
       "      <td>Fake</td>\n",
       "      <td>12</td>\n",
       "      <td>0.500000</td>\n",
       "    </tr>\n",
       "    <tr>\n",
       "      <th>...</th>\n",
       "      <td>...</td>\n",
       "      <td>...</td>\n",
       "      <td>...</td>\n",
       "      <td>...</td>\n",
       "      <td>...</td>\n",
       "      <td>...</td>\n",
       "    </tr>\n",
       "    <tr>\n",
       "      <th>1172</th>\n",
       "      <td>id0_id1_0005.mp4</td>\n",
       "      <td>10</td>\n",
       "      <td>0.182331</td>\n",
       "      <td>Fake</td>\n",
       "      <td>15</td>\n",
       "      <td>0.666667</td>\n",
       "    </tr>\n",
       "    <tr>\n",
       "      <th>1173</th>\n",
       "      <td>id10_id7_0004.mp4</td>\n",
       "      <td>5</td>\n",
       "      <td>0.363097</td>\n",
       "      <td>Fake</td>\n",
       "      <td>17</td>\n",
       "      <td>0.294118</td>\n",
       "    </tr>\n",
       "    <tr>\n",
       "      <th>1174</th>\n",
       "      <td>id0_id4_0001.mp4</td>\n",
       "      <td>7</td>\n",
       "      <td>0.300470</td>\n",
       "      <td>Fake</td>\n",
       "      <td>10</td>\n",
       "      <td>0.700000</td>\n",
       "    </tr>\n",
       "    <tr>\n",
       "      <th>1175</th>\n",
       "      <td>id6_id2_0000.mp4</td>\n",
       "      <td>2</td>\n",
       "      <td>0.329851</td>\n",
       "      <td>Fake</td>\n",
       "      <td>21</td>\n",
       "      <td>0.095238</td>\n",
       "    </tr>\n",
       "    <tr>\n",
       "      <th>1176</th>\n",
       "      <td>id13_id7_0002.mp4</td>\n",
       "      <td>6</td>\n",
       "      <td>0.211128</td>\n",
       "      <td>Fake</td>\n",
       "      <td>13</td>\n",
       "      <td>0.461538</td>\n",
       "    </tr>\n",
       "  </tbody>\n",
       "</table>\n",
       "<p>1177 rows × 6 columns</p>\n",
       "</div>"
      ],
      "text/plain": [
       "                   Name  Blinks  Average_EAR FakeOReal  Duration  \\\n",
       "0      id6_id1_0001.mp4       4     0.265516      Fake        10   \n",
       "1         id16_0005.mp4       9     0.309802      Real        11   \n",
       "2     id11_id7_0005.mp4       3     0.302121      Fake        10   \n",
       "3      id3_id1_0009.mp4       7     0.297112      Fake        16   \n",
       "4      id3_id1_0007.mp4       6     0.295055      Fake        12   \n",
       "...                 ...     ...          ...       ...       ...   \n",
       "1172   id0_id1_0005.mp4      10     0.182331      Fake        15   \n",
       "1173  id10_id7_0004.mp4       5     0.363097      Fake        17   \n",
       "1174   id0_id4_0001.mp4       7     0.300470      Fake        10   \n",
       "1175   id6_id2_0000.mp4       2     0.329851      Fake        21   \n",
       "1176  id13_id7_0002.mp4       6     0.211128      Fake        13   \n",
       "\n",
       "      Blinks-per-second  \n",
       "0              0.400000  \n",
       "1              0.818182  \n",
       "2              0.300000  \n",
       "3              0.437500  \n",
       "4              0.500000  \n",
       "...                 ...  \n",
       "1172           0.666667  \n",
       "1173           0.294118  \n",
       "1174           0.700000  \n",
       "1175           0.095238  \n",
       "1176           0.461538  \n",
       "\n",
       "[1177 rows x 6 columns]"
      ]
     },
     "execution_count": 28,
     "metadata": {},
     "output_type": "execute_result"
    }
   ],
   "source": [
    "modeldata = pd.read_csv('DF-combined.csv', encoding='utf-8')\n",
    "dp = modeldata['Blinks']/modeldata['Duration']\n",
    "modeldata['Blinks-per-second'] = dp\n",
    "modeldata"
   ]
  },
  {
   "cell_type": "markdown",
   "metadata": {},
   "source": [
    "## Training and Testing dataset"
   ]
  },
  {
   "cell_type": "code",
   "execution_count": 74,
   "metadata": {},
   "outputs": [],
   "source": [
    "xfeatures = ['Blinks','Average_EAR','Blinks-per-second']\n",
    "X = modeldata[xfeatures]\n",
    "Y = modeldata['FakeOReal']"
   ]
  },
  {
   "cell_type": "code",
   "execution_count": 75,
   "metadata": {},
   "outputs": [],
   "source": [
    "x_train, x_test, y_train, y_test = train_test_split(X, Y, test_size=0.2, random_state=1)"
   ]
  },
  {
   "cell_type": "code",
   "execution_count": 76,
   "metadata": {},
   "outputs": [],
   "source": [
    "x_train = StandardScaler().fit_transform(x_train)\n",
    "x_test = StandardScaler().fit_transform(x_test)"
   ]
  },
  {
   "cell_type": "markdown",
   "metadata": {},
   "source": [
    "## Functions for classification"
   ]
  },
  {
   "cell_type": "code",
   "execution_count": 77,
   "metadata": {},
   "outputs": [],
   "source": [
    "def train_classifier(cls, X_train, y_train):\n",
    "    cls.fit(X_train, y_train)\n",
    "    \n",
    "def predict_labels(cls, features, target):\n",
    "    # Makes predictions using a fit classifier based on F1 score.\n",
    "    y_pred = cls.predict(features)\n",
    "    return cls.score(features, target) ,y_pred\n",
    "\n",
    "def train_predict(cls, X_train, y_train, X_test, y_test):\n",
    "    print(\"Training a {} using a training set size of {} \".format(cls.__class__.__name__, len(X_train)))\n",
    "\n",
    "    # Train the classifier\n",
    "    train_classifier(cls, X_train, y_train)\n",
    "\n",
    "    # Print the results of prediction for both training and testing\n",
    "    acc , predictions = predict_labels(cls, X_train, y_train)\n",
    "    print(\"for training set\")\n",
    "    print(\"accuracy :\", acc)\n",
    "    print('')\n",
    "    \n",
    "    acc , predictions= predict_labels(cls, X_test, y_test)\n",
    "    print(\"for test set\")\n",
    "    print(\"accuracy :\", acc)\n",
    "    return predictions ,acc\n",
    "\n",
    "## Plot confusion matrix\n",
    "def plot_confusion(predictions ,y_test, score):\n",
    "    cm = metrics.confusion_matrix(y_test, predictions)\n",
    "    sns.heatmap(cm, annot=True, fmt=\".3f\", linewidths=.5, square = True, cmap = 'OrRd');\n",
    "    plt.ylabel('Actual label');\n",
    "    plt.xlabel('Predicted label');\n",
    "    all_sample_title = 'Accuracy Score: {0}'.format(score)\n",
    "    plt.title(all_sample_title, size = 10);"
   ]
  },
  {
   "cell_type": "markdown",
   "metadata": {},
   "source": [
    "# Logistic Regression"
   ]
  },
  {
   "cell_type": "code",
   "execution_count": 78,
   "metadata": {},
   "outputs": [
    {
     "name": "stdout",
     "output_type": "stream",
     "text": [
      "Training a LogisticRegression using a training set size of 941 \n",
      "for training set\n",
      "accuracy : 0.6663124335812965\n",
      "\n",
      "for test set\n",
      "accuracy : 0.6822033898305084\n"
     ]
    },
    {
     "data": {
      "image/png": "[encoded data removed]",
      "text/plain": [
       "<Figure size 432x288 with 2 Axes>"
      ]
     },
     "metadata": {
      "needs_background": "light"
     },
     "output_type": "display_data"
    }
   ],
   "source": [
    "lr = LogisticRegression()\n",
    "lr.fit(x_train, y_train)\n",
    "pred ,acc = train_predict(lr,x_train, y_train,x_test, y_test)\n",
    "plot_confusion( pred , y_test ,acc)"
   ]
  },
  {
   "cell_type": "markdown",
   "metadata": {},
   "source": [
    "# Decision tree classifier"
   ]
  },
  {
   "cell_type": "code",
   "execution_count": 79,
   "metadata": {},
   "outputs": [
    {
     "name": "stdout",
     "output_type": "stream",
     "text": [
      "Training a DecisionTreeClassifier using a training set size of 941 \n",
      "for training set\n",
      "accuracy : 0.6695005313496281\n",
      "\n",
      "for test set\n",
      "accuracy : 0.652542372881356\n"
     ]
    },
    {
     "data": {
      "image/png": "[encoded data removed]",
      "text/plain": [
       "<Figure size 432x288 with 2 Axes>"
      ]
     },
     "metadata": {
      "needs_background": "light"
     },
     "output_type": "display_data"
    }
   ],
   "source": [
    "dtree_modelhome = DecisionTreeClassifier(max_depth = 2)\n",
    "pred ,acc= train_predict(dtree_modelhome,x_train, y_train,x_test, y_test)\n",
    "plot_confusion( pred , y_test, acc)"
   ]
  },
  {
   "cell_type": "markdown",
   "metadata": {},
   "source": [
    "# k neighbor classification"
   ]
  },
  {
   "cell_type": "code",
   "execution_count": 80,
   "metadata": {},
   "outputs": [
    {
     "name": "stdout",
     "output_type": "stream",
     "text": [
      "Training a KNeighborsClassifier using a training set size of 941 \n",
      "for training set\n",
      "accuracy : 0.7151965993623804\n",
      "\n",
      "for test set\n",
      "accuracy : 0.6610169491525424\n"
     ]
    },
    {
     "data": {
      "image/png": "[encoded data removed]",
      "text/plain": [
       "<Figure size 432x288 with 2 Axes>"
      ]
     },
     "metadata": {
      "needs_background": "light"
     },
     "output_type": "display_data"
    }
   ],
   "source": [
    "knn = KNeighborsClassifier(n_neighbors = 7)\n",
    "pred ,acc= train_predict(knn,x_train, y_train,x_test, y_test)\n",
    "plot_confusion( pred , y_test, acc)"
   ]
  },
  {
   "cell_type": "markdown",
   "metadata": {},
   "source": [
    "# Fake video detection"
   ]
  },
  {
   "cell_type": "code",
   "execution_count": 81,
   "metadata": {},
   "outputs": [],
   "source": [
    "def predict(video):\n",
    "    a=count_blinks_ear(video)\n",
    "    b=[0,0,0]\n",
    "    b[0] = a[0]\n",
    "    b[1] = a[1]\n",
    "    b[2] = a[0]/a[2]\n",
    "    c=[b]\n",
    "    print(lr.predict(c))"
   ]
  },
  {
   "cell_type": "code",
   "execution_count": 82,
   "metadata": {},
   "outputs": [],
   "source": [
    "pathReal = \"./Predict/real/\"\n",
    "pathFake = \"./Predict/fakes/\""
   ]
  },
  {
   "cell_type": "markdown",
   "metadata": {},
   "source": [
    "## Prediction 1\n",
    "* Here prediction is correct because fake video does not mimic eye blink properly "
   ]
  },
  {
   "cell_type": "code",
   "execution_count": 83,
   "metadata": {},
   "outputs": [
    {
     "name": "stdout",
     "output_type": "stream",
     "text": [
      "8 blinks found\n",
      "['Real']\n"
     ]
    }
   ],
   "source": [
    "video1 = pathReal +str('real0.mp4')\n",
    "predict(video1)"
   ]
  },
  {
   "cell_type": "code",
   "execution_count": 84,
   "metadata": {},
   "outputs": [
    {
     "name": "stdout",
     "output_type": "stream",
     "text": [
      "0 blinks found\n",
      "['Fake']\n"
     ]
    }
   ],
   "source": [
    "video2 = pathFake +str('fake0.mp4')\n",
    "predict(video2)"
   ]
  },
  {
   "cell_type": "markdown",
   "metadata": {},
   "source": [
    "## Prediction 2\n",
    "* Here prediction is correct because fake video does not mimic eye blink properly"
   ]
  },
  {
   "cell_type": "code",
   "execution_count": 85,
   "metadata": {},
   "outputs": [
    {
     "name": "stdout",
     "output_type": "stream",
     "text": [
      "2 blinks found\n",
      "['Real']\n"
     ]
    }
   ],
   "source": [
    "video1 = pathReal +str('real1.mp4')\n",
    "predict(video1)"
   ]
  },
  {
   "cell_type": "code",
   "execution_count": 86,
   "metadata": {},
   "outputs": [
    {
     "name": "stdout",
     "output_type": "stream",
     "text": [
      "0 blinks found\n",
      "['Fake']\n"
     ]
    }
   ],
   "source": [
    "video2 = pathFake +str('fake1.mp4')\n",
    "predict(video2)"
   ]
  },
  {
   "cell_type": "markdown",
   "metadata": {},
   "source": [
    "## Prediction 3\n",
    "* Here prediction is correct because fake video does not mimic eye blink properly"
   ]
  },
  {
   "cell_type": "code",
   "execution_count": 87,
   "metadata": {},
   "outputs": [
    {
     "name": "stdout",
     "output_type": "stream",
     "text": [
      "1 blinks found\n",
      "['Real']\n"
     ]
    }
   ],
   "source": [
    "video1 = pathReal +str('real2.mp4')\n",
    "predict(video1)"
   ]
  },
  {
   "cell_type": "code",
   "execution_count": 88,
   "metadata": {},
   "outputs": [
    {
     "name": "stdout",
     "output_type": "stream",
     "text": [
      "0 blinks found\n",
      "['Fake']\n"
     ]
    }
   ],
   "source": [
    "video2 = pathFake +str('fake2.mp4')\n",
    "predict(video2)"
   ]
  },
  {
   "cell_type": "markdown",
   "metadata": {},
   "source": [
    "## Prediction 4\n",
    "* Here prediction is incorrect because fake video mimiced eye blink properly"
   ]
  },
  {
   "cell_type": "code",
   "execution_count": 89,
   "metadata": {},
   "outputs": [
    {
     "name": "stdout",
     "output_type": "stream",
     "text": [
      "4 blinks found\n",
      "['Real']\n"
     ]
    }
   ],
   "source": [
    "video1 = pathReal +str('real3.mp4')\n",
    "predict(video1)"
   ]
  },
  {
   "cell_type": "code",
   "execution_count": 90,
   "metadata": {},
   "outputs": [
    {
     "name": "stdout",
     "output_type": "stream",
     "text": [
      "4 blinks found\n",
      "['Real']\n"
     ]
    }
   ],
   "source": [
    "video2 = pathFake +str('fake3.mp4')\n",
    "predict(video2)"
   ]
  },
  {
   "cell_type": "code",
   "execution_count": null,
   "metadata": {},
   "outputs": [],
   "source": []
  }
 ],
 "metadata": {
  "kernelspec": {
   "display_name": "Python 3",
   "language": "python",
   "name": "python3"
  },
  "language_info": {
   "codemirror_mode": {
    "name": "ipython",
    "version": 3
   },
   "file_extension": ".py",
   "mimetype": "text/x-python",
   "name": "python",
   "nbconvert_exporter": "python",
   "pygments_lexer": "ipython3",
   "version": "3.8.3"
  }
 },
 "nbformat": 4,
 "nbformat_minor": 4
}
